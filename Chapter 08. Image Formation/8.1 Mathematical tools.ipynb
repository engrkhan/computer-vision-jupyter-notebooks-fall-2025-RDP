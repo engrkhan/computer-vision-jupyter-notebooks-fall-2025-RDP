{
 "cells": [
  {
   "cell_type": "markdown",
   "metadata": {},
   "source": [
    "# 8.1 Mathematical tools for image formation\n",
    "\n",
    "Image formation is the process of projecting the elements appearing in a **3D scene** (objects, surfaces, landscapes, etc.) on the **2D image plane**. Such 3D scene could be:\n",
    "\n",
    "- the real world captured by a camera, \n",
    "- a videogame engine transforming the 3D virtual enviroment to images simulating the player point of view,\n",
    "- and so on.$\\\\[5pt]$\n",
    "\n",
    "<img src=\"./images/intro.jpg\" width=\"500\"/>$\\\\[5pt]$\n",
    "\n",
    "From the topic *image formation* two main questions arise:\n",
    "\n",
    "- **The geometric problem:** Where does each 3D point project on the image? \n",
    "- **The radiometric problem:** What will be the color on the image of each 3D point? *(not addressed here)*\n",
    "\n",
    "In this notebook we will see some basic mathematical tools that are required for studying image formation models (e.g. pinhole model).  These tools are:\n",
    "\n",
    "- Euclidean transformations in 3D (section 8.1.1).\n",
    "  - Products of 3D vectors (8.1.1.1).\n",
    "  - Linear transformation of vectors (8.1.1.2).\n",
    "  - Rotation matrix (8.1.1.3).\n",
    "- Homogeneous transformations (8.1.2)."
   ]
  },
  {
   "cell_type": "markdown",
   "metadata": {},
   "source": [
    "## Problem context - Camera in first-person videogames \n",
    "\n",
    "In video games, it is called *first person* to any graphical perspective rendered from the viewpoint of the player's character, or a viewpoint from the cockpit or front seat of a vehicle driven by the character. Many genres incorporate first-person perspectives, including adventure games, driving, sailing, and flight simulators. Perhaps the more extended are first-person shooters, in which the graphical perspective is an integral component of the gameplay.\n",
    "\n",
    "Usually, when someones plays a first-person computer game, the `WASD` keys of our keyboard are used to move the camera position in the $x$ and $z$ axes and `SPACE` is used for jumping (this moves the camera in the $y$ axis). The mouse is used for changing the camera direction (this applies *pitch* and/or *yaw* rotations to the camera coordinate system). \n",
    "\n",
    "<img src=\"./images/first_person.jpg\" width=\"500\"/>$\\\\[3pt]$\n",
    "\n",
    "Our task in this notebook is **to program these camera displacements and rotations so they can be integrated into a graphic engine!** Obviously, this implies learning all the maths needed, so let's start the fun!"
   ]
  },
  {
   "cell_type": "code",
   "execution_count": null,
   "metadata": {},
   "outputs": [],
   "source": [
    "import numpy as np\n",
    "import cv2\n",
    "import matplotlib.pyplot as plt\n",
    "import matplotlib\n",
    "from mpl_toolkits.mplot3d import Axes3D\n",
    "from math import sin, cos, radians\n",
    "%matplotlib notebook\n",
    "\n",
    "matplotlib.rcParams['figure.figsize'] = (6.0, 6.0)\n",
    "images_path = './images/'"
   ]
  },
  {
   "cell_type": "markdown",
   "metadata": {},
   "source": [
    "## 8.1.1 3D Euclidean transformations\n",
    "### 8.1.1.1 Product of 3D vectors\n",
    "\n",
    "First of all, we need to know how vectors are defined and how to multiply them.\n",
    "\n",
    "A **free vector** is defined from a pair of points: $(p,q)$\n",
    "\n",
    "$\\hspace{2cm} X_p = \\begin{bmatrix} X_1 \\\\ Y_1 \\\\ Z_1\\end{bmatrix} \\in \\mathbb{R}^3, \\ X_q = \\begin{bmatrix} X_2 \\\\ Y_2 \\\\ Z_2 \\end{bmatrix} \\in \\mathbb{R}^3 \\\\[5pt]$\n",
    "\n",
    "In this way, we can retrieve the coordinates of a vector $v$ as:\n",
    "\n",
    "$\\hspace{2cm} v = \\begin{bmatrix} v_1 \\\\ v_2 \\\\ v_3\\end{bmatrix} = \\begin{bmatrix} X_2 - X_1 \\\\ Y_2 - Y_1  \\\\ Z_2 - Z_1 \\end{bmatrix} \\in \\mathbb{R}^3$\n",
    "\n",
    "We can plot a set of 3D vector using matplotlib's method [`quiver()`](https://matplotlib.org/3.1.1/gallery/mplot3d/quiver3d.html), which takes 6 main arguments:\n",
    "\n",
    "- *X*,*Y*,*Z*: tuples containing the X, Y and Z coordinates of the origin point in the set of vectors.\n",
    "- *U*,*V*,*W*: tuples containing the X, Y and Z coordinates of all vectors w.r.t. such origin point.\n",
    "\n",
    "The next code illustrates how to plot two free vectors $v_1 = (2,1,1)$, and $  v_2 = (0,1,2)$, with origin point $p=(1,1,1)$"
   ]
  },
  {
   "cell_type": "code",
   "execution_count": null,
   "metadata": {},
   "outputs": [],
   "source": [
    "matplotlib.rcParams['figure.figsize'] = (6.0, 6.0)\n",
    "\n",
    "# Vector coordinates\n",
    "v = np.array([[2,0],[1,1],[1,2]])\n",
    "\n",
    "# Vector labels\n",
    "labels = [\"v1\",\"v2\"]\n",
    "\n",
    "# Origin coordinates\n",
    "origin = np.array([[1,1],[1,1],[1,1]])\n",
    "\n",
    "# Prepare vector for plotting input\n",
    "X,Y,Z = origin[0,:], origin[1,:], origin[2,:]\n",
    "U,V,W = v[0,:], v[1,:], v[2,:]\n",
    "\n",
    "# Create figure\n",
    "fig = plt.figure()\n",
    "\n",
    "# Prepare figure for 3D data\n",
    "ax = fig.gca(projection='3d')\n",
    "\n",
    "# Set axes limits\n",
    "ax.set_xlim3d(-1, 4)\n",
    "ax.set_ylim3d(-1, 4)\n",
    "ax.set_zlim3d(-1, 4)\n",
    "\n",
    "# Add axis labels and aspect ratio\n",
    "ax.set_xlabel('X')\n",
    "ax.set_ylabel('Y')\n",
    "ax.set_zlabel('Z')\n",
    "#ax.set_aspect('equal')\n",
    "\n",
    "# Plot vectors\n",
    "ax.quiver(X, Y, Z, U, V, W,color=\"black\")\n",
    "\n",
    "# Add labels\n",
    "for i in range(len(labels)):\n",
    "    ax.text(U[i]+X[i], V[i]+Y[i], W[i]+Z[i] ,labels[i], fontsize=12)\n",
    "\n",
    "# And show the figure!\n",
    "plt.show()"
   ]
  },
  {
   "cell_type": "markdown",
   "metadata": {},
   "source": [
    "### <span style=\"color:green\"><b><i>ASSIGNMENT 1: We want to see how things work</i></b></span>\n",
    "\n",
    "**Our first task is to** define the method called `plot_vectors()`, which returns a figure plotting a number of input free vectors as defined in `v` with a given `origin` and axes `labels`. \n",
    "\n",
    "*Note that:*\n",
    "\n",
    "- *The function also expects as inputs a figure and some axes. This permits us to call the method multiple times reusing the same figure.*\n",
    "\n",
    "- *The first time that the method is called, the axes must be previously initialized outside of the method using [ax = fig.gca(projection='3d')](https://kite.com/python/docs/matplotlib.figure.Figure.gca).*"
   ]
  },
  {
   "cell_type": "code",
   "execution_count": null,
   "metadata": {},
   "outputs": [],
   "source": [
    "# Assignment 1\n",
    "def plot_vectors(fig, ax, v, origin, labels, color, axes_lim):\n",
    "    \"\"\" Plot 3D vectors using matplotlib\n",
    "        \n",
    "        Args:\n",
    "            fig, ax: Figure and axes (must be 3D)\n",
    "            v: Array containing vector coordinates, each column contains a 3D vector\n",
    "            origin: Array containing vector origin points for 'v' array\n",
    "            labels: Array of strings containing labels for the vectors, it should have same length than columns in 'v'\n",
    "            color: String containing the color of the vectors\n",
    "            axes_lim: 6-size vector containing the minimum and maximum limits for each axis [X_min,X_max,X_min,X_max,Z_min,Z_max]\n",
    "        \n",
    "        Returns: \n",
    "            fig, ax: Figure and axis of a 3D plot with the vectors plotted\n",
    "    \"\"\"   \n",
    "\n",
    "    # Prepare vector for plotting input\n",
    "    \n",
    "\n",
    "    # Set axes limits\n",
    "    \n",
    "    \n",
    "    # Add axis labels and aspect ratio\n",
    "    \n",
    "    \n",
    "    # Plot vectors\n",
    "    \n",
    "    \n",
    "    # Add labels\n",
    "    "
   ]
  },
  {
   "cell_type": "markdown",
   "metadata": {},
   "source": [
    "To **try your function**, the next code should show a orthonormal basis (unit vectors) centered at $(0,0,0)$."
   ]
  },
  {
   "cell_type": "code",
   "execution_count": null,
   "metadata": {},
   "outputs": [],
   "source": [
    "matplotlib.rcParams['figure.figsize'] = (6.0, 6.0)\n",
    "\n",
    "# Create figure\n",
    "fig = plt.figure()\n",
    "\n",
    "# Prepare figure for 3D data\n",
    "ax = fig.gca(projection='3d')\n",
    "   \n",
    "# Vector coordinates\n",
    "v = np.array([[1,0,0],[0,1,0],[0,0,1]])\n",
    "\n",
    "# Origin coordinates\n",
    "origin = np.array([[0,0,0],[0,0,0],[0,0,0]])\n",
    "\n",
    "# Vector labels\n",
    "labels = [\"x\",\"y\",\"z\"]\n",
    "\n",
    "# Call plot_vectors\n",
    "fig, ax = plot_vectors(fig, ax, v, origin, labels, \"red\",[-1,2,-1,2,-1,2])\n",
    "\n",
    "fig.show()"
   ]
  },
  {
   "cell_type": "markdown",
   "metadata": {},
   "source": [
    "Now that you know how to define and plot a set of vectors, you are ready to learn two basic operations with them: the *dot* and *cross products*.\n",
    "\n",
    "#### Dot product of two vectors\n",
    "\n",
    "The dot product (also called scalar product or inner product) of two vectors is the sum of the element-wise product between them, which results in a **scalar**.\n",
    "\n",
    "***Algebraic definition:***\n",
    "\n",
    "$$ \\mathbf{a} = \\begin{bmatrix} a_1 \\\\ a_2 \\\\ a_3\\end{bmatrix} \\;\\;\\;\\;\\;\\;  \\mathbf{b} = \\begin{bmatrix} b_1 \\\\ b_2 \\\\ b_3 \\end{bmatrix}$$\n",
    "\n",
    "$$\\langle\\mathbf{a},\\mathbf{b}\\rangle = \\mathbf{a} \\cdot \\mathbf{b} = \\mathbf{a}^T\\mathbf{b} = \\texttt{trace}(\\mathbf{a} \\, \\mathbf{b}^T) = a_1b_1 + a_2b_2 + a_3b_3 \\in \\mathbb{R}$$\n",
    "\n",
    "The dot product induces a norm for a vector (a distance between 2 points), hence defining the Euclidean norm:\n",
    "\n",
    "$$\\|\\mathbf{a}\\| = \\sqrt{\\mathbf{a}^T\\mathbf{a}} = \\sqrt{a_1^2 + a_2^2 + a_3^2}$$\n",
    "\n",
    "***Geometric definition:*** the dot product of two Euclidean vectors $\\mathbf{a}$ and $\\mathbf{b}$ is defined by:\n",
    "\n",
    "$$ \\mathbf{a}\\cdot \\mathbf{b} = \\| a\\| \\, \\|b\\| \\cos \\theta$$\n",
    "\n",
    "where $\\theta$ is the angle between both vectors. That is, the dot product represents the product of their Euclidean magnitudes and the cosine of the angle between them. Such a definition can be rearranged to calculate the projection of one vector onto the other: $\\\\[5pt]$\n",
    "\n",
    "<img src=\"./images/dot.png\" width=\"300\" align=\"center\"/>"
   ]
  },
  {
   "cell_type": "markdown",
   "metadata": {},
   "source": [
    "### **<span style=\"color:green\"><b><i>ASSIGNMENT 2: Playing with the dot product</i></b></span>**\n",
    "\n",
    "Compute the **dot product** of two vectors: $(0,2,4)$ and $(2,3,2)$ using the described method and check that you get the same result than using `np.dot()` and `np.linalg.norm()`. Then compute the projection of the first vector onto the second one."
   ]
  },
  {
   "cell_type": "code",
   "execution_count": null,
   "metadata": {},
   "outputs": [],
   "source": [
    "# Assignment 2\n",
    "\n",
    "# Matrix of vectors\n",
    "\n",
    "\n",
    "# Dot product\n",
    "\n",
    "\n",
    "# Norm of second vector\n",
    "\n",
    "\n",
    "# Projection of first vector onto the second one\n"
   ]
  },
  {
   "cell_type": "markdown",
   "metadata": {},
   "source": [
    "<font color='blue'>**Expected output:**  </font>\n",
    "\n",
    "3.3955"
   ]
  },
  {
   "cell_type": "markdown",
   "metadata": {},
   "source": [
    "**Cross product of two vectors**\n",
    "\n",
    "The cross product (also called vector product) of two linearly independent vectors $\\mathbf{a}$ and $\\mathbf{b}$ is a linear transformation which results in **another vector** $\\mathbf{c}$ perpendicular to both, and thus to the plane containing them. It's defined as:$\\\\[5pt]$\n",
    "\n",
    "$$ \\mathbf{a} = \\begin{bmatrix} a_1 \\\\ a_2 \\\\ a_3\\end{bmatrix} \\hspace{1cm} \\mathbf{b} = \\begin{bmatrix} b_1 \\\\ b_2 \\\\ b_3 \\end{bmatrix} \\\\[5pt]$$\n",
    "\n",
    "$$ \\mathbf{c} = \\mathbf{a} \\times \\mathbf{b} = \\begin{vmatrix}\n",
    "i & j & k \\\\\n",
    "a_1 & a_2 & a_3 \\\\\n",
    "b_1 & b_2 & b_3\n",
    "\\end{vmatrix}\n",
    "= \n",
    "(a_2 b_3 \\mathbf{i} + a_3 b_1 \\mathbf{j} + a_1 b_2 \\mathbf{k}) - (a_3 b_2 \\mathbf{i} + a_1 b_3 \\mathbf{j} + a_2 b_1 \\mathbf{k})\n",
    "$$\n",
    "\n",
    "$$ = \n",
    "(a_2 b_3 - a_3 b_2)\\mathbf{i} + (a_3 b_1 - a_1 b_3)\\mathbf{j} + (a_1 b_2 - a_2 b_1)\\mathbf{k}\n",
    "$$\n",
    "\n",
    "Although it is more convenient to express it as a linear (matrix) transformation:\n",
    "\n",
    "$$ \\mathbf{c} = \\mathbf{a} \\times \\mathbf{b} \n",
    "= [\\mathbf{a}]_\\times\\mathbf{b} \\hspace{1.5cm} [\\mathbf{a}]_\\times = \\begin{bmatrix} 0 & -a_3 & a_2 \\\\ a_3 & 0 & -a_1 \\\\ -a_2 & a_1 & 0\\end{bmatrix}  \\in \\mathbb{R}^3$$\n",
    "\n",
    "where $[\\mathbf{a}]_\\times$ is called a *skew-symmetric* matrix of $\\mathbf{a}$. Thus, the magnitude of the resultant vector:\n",
    "\n",
    "$$ \\|\\mathbf{c}\\| = \\|\\mathbf{a}\\| \\times \\|\\mathbf{b}\\| \\sin \\theta$$\n",
    "\n",
    "This has an interesting **geometric meaning**: the magnitude of the cross product can be interpreted as the area of the parallelogram that has $\\mathbf{a}$ and $\\mathbf{b}$ as sides. Also, as mentioned, the resulting vector is orthogonal to both $\\mathbf{a}$ and $\\mathbf{b}$ vectors.\n",
    "\n",
    "<img src=\"./images/cross.png\" width=\"200\" align=\"center\"/>"
   ]
  },
  {
   "cell_type": "markdown",
   "metadata": {},
   "source": [
    "### **<span style=\"color:green\"><b><i>ASSIGNMENT 3: It's cross product time</i></b></span>**\n",
    "\n",
    "Compute the cross product of any 2 vectors $\\mathbf{a}$ and $\\mathbf{b}$. Check that you get the same result as using `np.cross()`. Then plot $\\mathbf{a}$ and $\\mathbf{b}$ as black vectors and their cross product in red using the previous defined method `plot_vectors()`.\n",
    "\n",
    "*Tip: Matrix multiplication is defined in numPy as `A @ B`. To transform an array (row) to a vertical vector (column) you can use [np.vstack](https://docs.scipy.org/doc/numpy/reference/generated/numpy.vstack.html).*"
   ]
  },
  {
   "cell_type": "code",
   "execution_count": null,
   "metadata": {},
   "outputs": [],
   "source": [
    "matplotlib.rcParams['figure.figsize'] = (6.0, 6.0)\n",
    "\n",
    "# Assignment 3\n",
    "\n",
    "# Vector coordinates\n",
    "\n",
    "\n",
    "# Vector origin points\n",
    "\n",
    "\n",
    "# Isolate vectors\n",
    "\n",
    "\n",
    "# Compute â\n",
    "\n",
    "\n",
    "# Compute cross product\n",
    "\n",
    "\n",
    "# Transform to vertical vector\n",
    "\n",
    "\n",
    "# Create figure\n",
    "\n",
    "\n",
    "# Prepare figure for 3D data\n",
    "\n",
    "\n",
    "# Call plot_vectors\n"
   ]
  },
  {
   "cell_type": "markdown",
   "metadata": {},
   "source": [
    "#### Extra: product of three vectors\n",
    "\n",
    "The product of three vectors (or scalar triple product) is a combination of the two previous ones: it is defined as the dot product of a vector $\\mathbf{c}$ with the cross product of the other two, namely $\\mathbf{a}$ and $\\mathbf{b}$, that is:\n",
    "\n",
    "$$(a \\times b) \\cdot c$$\n",
    "\n",
    "This product also has a **geometric meaning**: it is the (signed) volume of the parallelepiped defined by those vectors:$\\\\[10pt]$\n",
    "\n",
    "<img src=\"./images/triple.png\" width=\"250\"/>$\\\\[3pt]$"
   ]
  },
  {
   "cell_type": "markdown",
   "metadata": {},
   "source": [
    "### **<span style=\"color:green\"><b><i>ASSIGNMENT 4: concluding with the triple product</i></b></span>**\n",
    "\n",
    "Compute the triple product of $a=(1,2,3)$, $b=(3,1,2)$ and $c=(2,2,1)$:\n",
    "\n",
    "*Notice that $c \\cdot (a \\times b) = a \\cdot (b \\times c)$*"
   ]
  },
  {
   "cell_type": "code",
   "execution_count": null,
   "metadata": {},
   "outputs": [],
   "source": [
    "# Assignment 4\n",
    "\n",
    "# Vector coordinates\n",
    "\n",
    "\n",
    "#Isolate vectors\n",
    "\n",
    "\n",
    "# Compute â\n",
    "\n",
    "\n",
    "# Compute cross product\n",
    "\n",
    "\n",
    "# Compute triple product\n",
    "\n"
   ]
  },
  {
   "cell_type": "markdown",
   "metadata": {},
   "source": [
    "<font color='blue'>**Expected output:**  </font>\n",
    "\n",
    "   Triple product: 11"
   ]
  },
  {
   "cell_type": "markdown",
   "metadata": {},
   "source": [
    "### 8.1.1.2 Linear transformation of vectors\n",
    "\n",
    "As we saw before, the cross product of two vectors is a linear transformation, i.e., a linear function that transforms vectors. But cross product is just one particular case of linear transformation in where the matrix that defines the linear function is created from the elements of a vector. A more general definition for linear transformations in the 3D-space would be:\n",
    "\n",
    "$$A\\vec{v} = \\begin{bmatrix} a_1 & a_2 & a_3 \\\\ a_4 & a_5 & a_6 \\\\ a_7 & a_8 & a_9 \\end{bmatrix} \\begin{bmatrix} v_1 \\\\ v_2 \\\\ v_3\\end{bmatrix} =  \\begin{bmatrix} a_1v_1 + a_2v_2 + a_3v_3 \\\\ a_4v_1 + a_5v_2 + a_6v_3 \\\\ a_7v_1 + a_8v_2 + a_9v_3\\end{bmatrix}$$\n",
    "\n",
    "*Note that $\\vec{v}$ can be a matrix containing one vector per column, so the linear transformation is applied to every vector.*\n",
    "\n",
    "But, what means that a operation (in this case a matrix multiplication) is linear?\n",
    "\n",
    "It means that the following two properties hold:\n",
    "\n",
    "- **Aditivity:** $f(\\mathbf{x}_1 + \\mathbf{x}_2) = f(\\mathbf{x}_1) + f(\\mathbf{x}_2)$$\\\\[5pt]$\n",
    "\n",
    "- **Scaling:** $f(\\alpha \\mathbf{x}_1) = \\alpha f(\\mathbf{x}_1)$\n",
    "\n",
    "Equivalently, the superposition principle also holds:\n",
    "\n",
    "- **Superposition:** $f(\\alpha \\mathbf{x}_1 + \\beta \\mathbf{x}_2) = \\alpha f(\\mathbf{x}_1) + \\beta f(\\mathbf{x}_2)$ \n",
    "\n",
    "And luckily, matrix multiplication satisfies this property!\n",
    "\n",
    "$$A(\\alpha \\mathbf{x}_1 + \\beta \\mathbf{x}_2) = \\alpha A \\mathbf{x}_1 + \\beta A \\mathbf{x}_2 = \\alpha \\mathbf{y}_1 + \\beta \\mathbf{y}_2$$\n",
    "\n",
    "that is: the transformation of linear combinations of vectors $(\\alpha \\mathbf{x}_1 + \\beta \\mathbf{x}_2)$ is the linear combination of the transformed vectors $(\\alpha \\mathbf{y}_1 + \\beta \\mathbf{y}_2)$. The following figure shows an example of this property in action.\n",
    "\n",
    "<img src=\"./images/linear.png\" width=\"600\" align=\"center\"/>"
   ]
  },
  {
   "cell_type": "markdown",
   "metadata": {},
   "source": [
    "### **<span style=\"color:green\"><b><i>ASSIGNMENT 5: Playing with linear transformations</i></b></span>**\n",
    "\n",
    "Implement a complete method `apply_transformation()`, which applies a `transformation` to a set of vectors `v` and then shows the original vectors in black and the transformed ones in red. **Reuse the method `plot_vectors`** for this exercise.\n",
    "\n",
    "*NOTE: The labels for the transformed vectors are the same that for the originals (but showed in red).*"
   ]
  },
  {
   "cell_type": "code",
   "execution_count": null,
   "metadata": {},
   "outputs": [],
   "source": [
    "# Assigment 5\n",
    "def apply_transformation(transformation, v, origin, labels, axes_lim):\n",
    "    \"\"\" Apply a linear transformation to a set of 3D-vectors and plot them\n",
    "        \n",
    "        Args:\n",
    "            transformation: 3x3 matrix that defines the linear transformation\n",
    "            v: Array containing vector coordinates, each column contains a 3D vector\n",
    "            origin: Array containing vector origin points for 'v' array\n",
    "            labels: Array of strings containing labels for the vectors, it should have same length than columns in 'v'\n",
    "            axes_lim: 6-size vector containing the minimum and maximum limits for each axis [X_min,X_max,X_min,X_max,Z_min,Z_max]\n",
    "    \"\"\"   \n",
    "    \n",
    "    # Apply transformation\n",
    "    \n",
    "    \n",
    "    # Create figure\n",
    "    \n",
    "\n",
    "    # Prepare figure for 3D data\n",
    "    \n",
    "\n",
    "    # Call plot_vectors\n",
    "    "
   ]
  },
  {
   "cell_type": "markdown",
   "metadata": {},
   "source": [
    "You can use next code **to test if your results are correct**:"
   ]
  },
  {
   "cell_type": "code",
   "execution_count": null,
   "metadata": {
    "scrolled": false
   },
   "outputs": [],
   "source": [
    "matplotlib.rcParams['figure.figsize'] = (6.0, 6.0)\n",
    "\n",
    "# Transformation\n",
    "transformation = [[2,2,2],[0,2,0],[0,0,2]]\n",
    "\n",
    "# Vector coordinates\n",
    "v = np.array([[1,0,0],[0,1,0],[0,0,1]])\n",
    "\n",
    "# Origin coordinates\n",
    "origin = np.array([[0,0,0],[0,0,0],[0,0,0]])\n",
    "\n",
    "apply_transformation(transformation,v,origin,[\"x\",\"y\",\"z\"],[-3,3,-3,3,-3,3])"
   ]
  },
  {
   "cell_type": "markdown",
   "metadata": {},
   "source": [
    "<font color='blue'>**Expected output:**  </font>\n",
    "\n",
    "<img src=\"./images/example_transformation.png\" width=\"500\" align=\"left\"/>\n",
    "<img src=\"./images/blank.png\" width=\"100\" align=\"rigth\"/>"
   ]
  },
  {
   "cell_type": "markdown",
   "metadata": {},
   "source": [
    "### 8.1.1.3 Rotation matrix\n",
    "\n",
    "A rotation matrix represents a special linear transformation that rotates vectors preserving their length.\n",
    "\n",
    "$$\n",
    "\\mathbf{R} = \n",
    "\\begin{bmatrix} \n",
    "r_{11} & r_{12} & r_{13} \\\\ \n",
    "r_{21} & r_{22} & r_{23} \\\\ \n",
    "r_{32} & r_{32} & r_{33} \\end{bmatrix} \n",
    "= \\underbrace{[r_x \\ r_y \\ r_z]}_{\\text{coordinates of the original}\\\\ \\text{basis in the new one}} \\in \\mathbb{R}^{3x3}\n",
    "$$\n",
    "\n",
    "In this way, if we have a point $p$ with coordinates $p=[x,y,z]^T$ in the `WORLD` reference system, we can rotate it around the origin of coordinates and obtain its new coordinates by:\n",
    "\n",
    "$$\n",
    "p' = \\mathbf{R}p \n",
    "\\ \\ \\rightarrow \\ \\ \n",
    "\\begin{bmatrix} \n",
    "x' \\\\ y' \\\\ z' \n",
    "\\end{bmatrix} \n",
    "= \n",
    "\\mathbf{R} \n",
    "\\begin{bmatrix} \n",
    "x \\\\ y \\\\ z \n",
    "\\end{bmatrix}\n",
    "$$\n",
    "\n",
    "In our graphical engine, this could correspond to the case of a point orbiting around the camera and is called **active rotation**. \n",
    "\n",
    "On the other hand, we can use the inverse of $\\mathbf{R}$ to compute the coordinates $p$ of a point $q$ within a rotated reference system. In this case, we can understand this as if the point is fixed in the `WORLD` reference system and it is the camera (or the player point-of-view, if you want) which is rotating within it. This, in turn, is called **passive rotation**.\n",
    "\n",
    "<img src=\"./images/rotation.png\" width=\"300\" align=\"center\"/>\n",
    "\n",
    "\n",
    "In this case, we have that:\n",
    "$$\n",
    "p = \\mathbf{R}^{-1}q = \\mathbf{R}^Tq \\rightarrow \n",
    "\\begin{bmatrix} \n",
    "p_x \\\\ p_y \\\\ p_z \n",
    "\\end{bmatrix} = \n",
    "\\mathbf{R}^T\n",
    "\\begin{bmatrix} \n",
    "q_x \\\\ q_y \\\\ q_z \n",
    "\\end{bmatrix}\n",
    "$$\n",
    "A rotation matrix $\\mathbf{R}$ is an **orthogonal** matrix, so:\n",
    "\n",
    "- Its inverse equals its transpose (great property!): $\\mathbf{R}^T\\mathbf{R} = \\mathbf{R}\\mathbf{R}^T = I \\rightarrow \\mathbf{R}^T = \\mathbf{R}^{-1}$\n",
    "\n",
    "- $\\mathbf{R}$ also verifies that $\\ \\texttt{det}(\\mathbf{R}) = +1$\n",
    "\n",
    "In 3D-space, we have three elemental rotations, one in each axis, namely *yaw*, *pitch* and *roll*:\n",
    "\n",
    "<img src=\"./images/rotation_plane.png\" width=\"500\" align=\"center\"/>\n",
    "\n",
    "These elemental rotations are defined as three different matrices:\n",
    "\n",
    "$\\hspace{2cm}\\mathbf{R}_z(\\theta) = \\begin{bmatrix} cos\\theta & -sin\\theta & 0 \\\\ sin\\theta & cos\\theta & 0 \\\\ 0 & 0 & 1 \\end{bmatrix} \\hspace{1cm} \\mathbf{R}_y(\\theta) = \\begin{bmatrix} cos\\theta & 0 & -sin\\theta \\\\ 0 & 1 & 0 \\\\ -sin\\theta & 0 & cos\\theta \\end{bmatrix} \\hspace{1cm} \\mathbf{R}_x(\\theta) = \\begin{bmatrix} 1 & 0 & 0 \\\\ 0 & cos\\theta & -sin\\theta \\\\ 0 & sin\\theta & cos\\theta \\end{bmatrix}\\\\[5pt]$\n",
    "\n",
    "but by multiplying them we can perform a multiple-axes rotation!\n",
    "\n",
    "$$\n",
    "\\mathbf{R}_W^C \n",
    "= \n",
    "\\begin{bmatrix} \n",
    "r_{11} & r_{12} & r_{13} \\\\ \n",
    "r_{21} & r_{22} & r_{23} \\\\ \n",
    "r_{31} & r_{32} & r_{33} \n",
    "\\end{bmatrix} \n",
    "= \n",
    "\\mathbf{R}_z(yaw)\\mathbf{R}_y(pitch)\\mathbf{R}_x(roll) \n",
    "$$\n",
    "\n",
    "*Note that elemental rotation matrices keep static the transformation in an axis, (e.g. pitch rotation doesn't modify $y$ values)*\n",
    "\n",
    "The are several different orders in where these matrixes can be multiplied but the one presented here (i.e. Z-Y-X) is one of the most used (e.g. robotics, airbone navigation, etc.). Be careful! Order matters here as matrix multiplication is not commutative!\n",
    "\n",
    "The notation in the $\\mathbf{R}^C_W$ matrix means that such a rotation transforms points from the `WORLD` reference frame to the `CAMERA` one, and it must be understood as **the rotation of the `WORLD` reference frame as seen from the `CAMERA` one**. Thereby, we could transform any point (or vector) from the world coordinate system (e.g. a corner in a room) to the camera coordinate system (e.g. a security camera in the ceiling of the room).\n",
    "\n",
    "However, usually cameras are not placed at the center of the `WORLD` coordinate system, that is, they don't share their origin of coordinates. That means that the camera is also translated w.r.t. the `WORLD` reference system, so we have to include a translation vector $\\mathbf{t}_W^C$ in order to be able to convert points between the two reference frames. Again, this translation vector must be understood as **the position of the origin of the `WORLD` reference frame as seen from the `CAMERA` coordinate system**: \n",
    "\n",
    "$$p^C = \\mathbf{R}^C_W p^W + \\mathbf{t}_W^C$$\n",
    "\n",
    "$$ \\begin{bmatrix} x' \\\\ y' \\\\ z' \\end{bmatrix} \n",
    "= \n",
    "\\begin{bmatrix} \n",
    "r_{11} & r_{12} & r_{13} \\\\ \n",
    "r_{21} & r_{22} & r_{23} \\\\ \n",
    "r_{31} & r_{32} & r_{33} \n",
    "\\end{bmatrix} \n",
    "\\begin{bmatrix} x \\\\ y \\\\ z \n",
    "\\end{bmatrix} \n",
    "+ \n",
    "\\begin{bmatrix} t_x \\\\ t_y \\\\ t_z \\end{bmatrix}\n",
    "$$\n",
    "\n",
    "In this expression, the superindex indicates the reference system in where the element is expressed. Thus, for instance, $p^C$ indicates that the position of the point $p$ is expressed in the `CAMERA` reference system."
   ]
  },
  {
   "cell_type": "markdown",
   "metadata": {},
   "source": [
    "### **<span style=\"color:green\"><b><i>ASSIGNMENT 6: Rotating and translating things</i></b></span>**\n",
    " \n",
    " Now, we are going to implement the `apply_rotation_translation()` method, which accepts *pitch*, *yaw* and *roll* rotation angles (in degrees) and a translation vector and applies such transformations to an input vector.\n",
    "\n",
    "*Tip: you can transform degrees to radians using [`radians()`](https://www.geeksforgeeks.org/degrees-and-radians-in-python/).*"
   ]
  },
  {
   "cell_type": "code",
   "execution_count": null,
   "metadata": {},
   "outputs": [],
   "source": [
    "# Assignment 6\n",
    "def apply_rotation_translation(v, origin, yaw, pitch, roll, translation, labels, axes_lim):\n",
    "    \"\"\" Apply a linear transformation to a set of 3D-vectors and plot them\n",
    "        \n",
    "        Args:\n",
    "            v: Array containing vector coordinates, each column contains a 3D vector\n",
    "            origin: Array containing vector origin points for 'v' array.\n",
    "            yaw: Degrees to rotate the coordinate system around the 'Z' axis \n",
    "            pitch: Degrees to rotate the coordinate system around the 'Y' axis \n",
    "            roll: Degrees to rotate the coordinate system around the 'X' axis \n",
    "            translation: Column vector containing the translation for each axis\n",
    "            labels: Array of strings containing labels for the vectors, it should have same length than columns in 'v'\n",
    "            axes_lim: 6-size vector containing the minimum and maximum limits for each axis [X_min,X_max,X_min,X_max,Z_min,Z_max]\n",
    "    \"\"\"   \n",
    "    \n",
    "    # Transform to radians\n",
    "    \n",
    "    \n",
    "    # Construct rotation matrices\n",
    "    \n",
    "    \n",
    "    # Combine rotation matrices\n",
    "    \n",
    "    \n",
    "    # Apply transformation\n",
    "    \n",
    "    \n",
    "    # Create figure\n",
    "    \n",
    "\n",
    "    # Prepare figure for 3D data\n",
    "    \n",
    "\n",
    "    # Call plot_vectors\n",
    "    "
   ]
  },
  {
   "cell_type": "markdown",
   "metadata": {},
   "source": [
    "You can use next code **to test if your results are correct**:"
   ]
  },
  {
   "cell_type": "code",
   "execution_count": null,
   "metadata": {},
   "outputs": [],
   "source": [
    "# Vector coordinates\n",
    "v = np.array([[1,0,0],[0,1,0],[0,0,1]])\n",
    "\n",
    "# Origin coordinates\n",
    "origin = np.array([[0,0,0],[0,0,0],[0,0,0]])\n",
    "\n",
    "# Traslation vector\n",
    "translation = np.array([[1],[1],[1]])\n",
    "\n",
    "# Apply transformation\n",
    "apply_rotation_translation(v,origin,0,0,180,translation,[\"x\",\"y\",\"z\"],[-3,3,-3,3,-3,3])"
   ]
  },
  {
   "cell_type": "markdown",
   "metadata": {},
   "source": [
    "<font color='blue'>**Expected output:**  </font>\n",
    "\n",
    "<img src=\"./images/example_transformation_2.png\" width=\"500\" align=\"left\"/>\n",
    "<img src=\"./images/blank.png\" width=\"100\" align=\"rigth\"/>"
   ]
  },
  {
   "cell_type": "markdown",
   "metadata": {},
   "source": [
    "This is strongly related to a camera system in a videogame. For example, it could represent a movement of the player where they jump and rotate. That is, we are moving the `CAMERA` reference system within the `WORLD` one. Next, **you are asked to** simulate the following camera movements in such a context, using the previously defined method.\n",
    "\n",
    "- Look to the **right 90 degrees** and walk **forward 2 units**\n"
   ]
  },
  {
   "cell_type": "code",
   "execution_count": null,
   "metadata": {},
   "outputs": [],
   "source": [
    "# Vector coordinates\n",
    "\n",
    "# Origin coordinates\n",
    "\n",
    "# Traslation vector\n",
    "\n",
    "# Apply transformation\n"
   ]
  },
  {
   "cell_type": "markdown",
   "metadata": {},
   "source": [
    "- While you are walking (**two units forward**), jump (our character can **jump one unit of height**), and look **45 degrees to the floor** (e.g. jumping an obstacle)."
   ]
  },
  {
   "cell_type": "code",
   "execution_count": null,
   "metadata": {},
   "outputs": [],
   "source": [
    "# Write your code here!\n",
    "\n",
    "# Vector coordinates\n",
    "\n",
    "# Origin coordinates\n",
    "\n",
    "# Traslation vector\n",
    "\n",
    "# Apply transformation"
   ]
  },
  {
   "cell_type": "markdown",
   "metadata": {},
   "source": [
    "## 8.1.2 One step further: Homogenous transformations\n",
    "\n",
    "Homogenous (also called projective) transformations are linear transformations (i.e. matrix multiplications) **between homogenous coordinates** (vectors). Such coordinates are obtained from Cartesian (inhomogenous) vectors by **extenging them with a non-negative number** (for convenience 1).\n",
    "\n",
    "We are going to explain homogenous transformations using a 3D space, **this is generalizable to any other dimension**.\n",
    "\n",
    "A 3D vector in **inhomogenous coordinates** looks like:\n",
    "\n",
    "$$X = \\begin{bmatrix} X \\\\ Y \\\\ Z \\end{bmatrix} \\in \\mathbb{R}^3$$\n",
    "\n",
    "while the same vector in **homogenous coordinates** has the form:\n",
    "\n",
    "$$\\tilde{X} = \\begin{bmatrix} X \\\\ Y \\\\ Z \\\\ 1 \\end{bmatrix} \\equiv \\begin{bmatrix} \\lambda X \\\\ \\lambda Y \\\\ \\lambda Z \\\\ \\lambda \\end{bmatrix} \\in \\mathbb{R}^4$$\n",
    "\n",
    "We can go back by dividing the three first coordinates by the fourth:$\\\\[5pt]$\n",
    "\n",
    "$$\\tilde{X} = \\begin{bmatrix} \\lambda X \\\\ \\lambda Y \\\\ \\lambda Z \\\\ \\lambda \\end{bmatrix} \\Rightarrow X = \\begin{bmatrix} X/\\lambda \\\\ Y/\\lambda \\\\ Z/\\lambda \\end{bmatrix}$$\n",
    "\n",
    "As a consecuence of $\\lambda$, **any transformation in homogenous coordinates holds for any scaled matrix**:\n",
    "  \n",
    "$$\n",
    "\\begin{bmatrix} x_1' \\\\ x_2' \\\\ x_3' \\\\ x_4' \\end{bmatrix} \n",
    "= \n",
    "\\begin{bmatrix} p_{11} & p_{12} & p_{13} & p_{14} \\\\ p_{21} & p_{22} & p_{23} & p_{24} \\\\ p_{31} & p_{32} & p_{33} & p_{34} \\\\ p_{41} & p_{42} & p_{43} & p_{44} \\end{bmatrix} \n",
    "\\begin{bmatrix} \\lambda x_1 \\\\ \\lambda x_2 \\\\ \\lambda x_3 \\\\ \\lambda \\end{bmatrix} \n",
    "= \n",
    "\\lambda \n",
    "\\begin{bmatrix} p_{11} & p_{12} & p_{13} & p_{14} \\\\ p_{21} & p_{22} & p_{23} & p_{24} \\\\ p_{31} & p_{32} & p_{33} & p_{34} \\\\ p_{41} & p_{42} & p_{43} & p_{44} \\end{bmatrix}\n",
    "\\begin{bmatrix} x_1 \\\\ x_2 \\\\ x_3 \\\\ 1 \n",
    "\\end{bmatrix} \n",
    "$$\n",
    "\n",
    "Then, the following transfomations are equivalent:\n",
    "\n",
    "$$\n",
    "\\begin{bmatrix} 1 & -3 & 2 & 5 \\\\ 4 & 2 & 1 & 2 \\\\ 4 & -1 & 0 & 2 \\\\ -6 & 2 & 1 & 2 \n",
    "\\end{bmatrix} \n",
    "\\equiv \n",
    "\\lambda \n",
    "\\begin{bmatrix} 1 & -3 & 2 & 5 \\\\ 4 & 2 & 1 & 2 \\\\ 4 & -1 & 0 & 2 \\\\ -6 & 2 & 1 & 2 \n",
    "\\end{bmatrix}\n",
    "$$\n",
    "\n",
    "**This indetermination is typically handled by fixing one entry of the matrix**, (e.g. $p_{44} = 1$). Also, these matrices must be non-singular (Rank = 4)."
   ]
  },
  {
   "cell_type": "markdown",
   "metadata": {},
   "source": [
    "### Why do we want this?\n",
    "\n",
    "Now that we know how homogenous coordinates and homogenous transformations works, it's time for understanding **why this is interesting**.\n",
    "\n",
    "For now, we were performing complete transformations (rotations and translations) by using a rotation matrix and adding a translation vector to the rotated points ($p' = \\mathbf{R}p + \\mathbf{t}$).\n",
    "\n",
    "The problem of this transformation is that the **concatenation of transformations** when a sequence of transformations has to be done becomes a mess:\n",
    "\n",
    "$\\hspace{2cm} p' = \\mathbf{R}_1p+\\mathbf{t}_1 \\\\ \\hspace{2cm} p'' = \\mathbf{R}_2p' + \\mathbf{t}_2 = \\mathbf{R}_2(\\mathbf{R}_1p+\\mathbf{t}_1) + \\mathbf{t}_2 = \\mathbf{R}_2\\mathbf{R}_1p + \\mathbf{R}_2\\mathbf{t}_1 + \\mathbf{t}_2$\n",
    "\n",
    "In the context of our problem, every time we move the camera we have to concatenate a new transformation. Imagine this in a first-person videogame, where a transformation of the coordinate system is needed in every frame. In just a second more than 60 concatenations should be computed.\n",
    "\n",
    "**What happens if we use homogenous coordinates?**\n",
    "\n",
    "We can express a transformation consisting of a rotation + translation using only a matrix multiplication:\n",
    "\n",
    "$$ \\tilde{p}' = \\mathbf{T}_1\\tilde{p} \\Rightarrow \\begin{bmatrix} X' \\\\ Y' \\\\ Z' \\\\ 1 \\end{bmatrix} = \\begin{bmatrix} r_{11} & r_{12} & r_{13} & t_x\\\\ r_{21} & r_{22} & r_{23} & t_y \\\\ r_{31} & r_{32} & r_{33} & t_z \\\\ 0 & 0 & 0 & 1 \\end{bmatrix} \\begin{bmatrix} X \\\\ Y \\\\ Z \\\\ 1 \\end{bmatrix} = \\begin{bmatrix} r_{11}X + r_{12}Y + r_{13}Z + t_x \\\\ r_{21}X + r_{22}Y + r_{23}Z + t_y \\\\ r_{31}X + r_{32}Y + r_{33}Z + t_z \\\\ 0X + 0Y + 0Z + 1 \\end{bmatrix} = \\begin{bmatrix} r_{11}X + r_{12}Y + r_{13}Z \\\\ r_{21}X + r_{22}Y + r_{23}Z \\\\ r_{31}X + r_{32}Y + r_{33}Z \\\\ 1 \\end{bmatrix} +  \\begin{bmatrix} t_x \\\\ t_y \\\\ t_z \\\\ 0 \\end{bmatrix}$$\n",
    "\n",
    "Note that the 3$\\times$3 left-top submatrix of the $\\mathbf{T}_1$ matrix is a rotation matrix while the last column contains the desired translation. \n",
    "This is the main reason for using homogeneous coordinates, look **how concatenation is applied now!**\n",
    "\n",
    "$\\hspace{02cm}  \\tilde{p}' = \\mathbf{T}_1\\tilde{p} \\\\\n",
    " \\hspace{2cm}  \\tilde{p}'' = \\mathbf{T}_2\\tilde{p}' = \\mathbf{T}_2\\mathbf{T}_1\\tilde{p}$\n",
    " \n",
    "**Concatenation becomes much easier**, being only consecutive matrix multiplications (remember that, nowadays, matrix multiplications are very fast using GPUs)."
   ]
  },
  {
   "cell_type": "markdown",
   "metadata": {},
   "source": [
    "**Let's play a bit with homogeneous coordinates**. We are going to apply a homogenous transformation to a 3D object (set of 3D-points). For this, we have defined `data`$\\in \\mathbb{R}^4$, a **matrix containing more than 3k points in homogenous coordinates**:"
   ]
  },
  {
   "cell_type": "code",
   "execution_count": null,
   "metadata": {},
   "outputs": [],
   "source": [
    "# Load data\n",
    "data = np.load(\"./data/data.npy\")\n",
    "\n",
    "# Create figure\n",
    "fig = plt.figure()\n",
    "\n",
    "# Prepare figure for 3D data\n",
    "ax = fig.gca(projection='3d')\n",
    "\n",
    "# Name axes\n",
    "ax.set_xlabel('X axis')\n",
    "ax.set_ylabel('Y axis')\n",
    "ax.set_zlabel('Z axis')\n",
    "\n",
    "# Plot points\n",
    "ax.scatter(data[0,:], data[1,:], data[2,:])\n",
    "\n",
    "fig.show()"
   ]
  },
  {
   "cell_type": "markdown",
   "metadata": {},
   "source": [
    "### **<span style=\"color:green\"><b><i>ASSIGNMENT 7: Homogeneous transformations for the win</i></b></span>**\n",
    "\n",
    "Now, create a new method called `apply_homogeneous_transformation()` that builds a homogeneous matrix from some *yaw*, *pitch* and *roll* values as well as a translation vector and applies it to the input data matrix `data`. *Note that we are not transforming vectors, but points. For plotting 3D points use [`scatter()`](https://matplotlib.org/mpl_toolkits/mplot3d/tutorial.html) instead of quiver.*"
   ]
  },
  {
   "cell_type": "code",
   "execution_count": null,
   "metadata": {},
   "outputs": [],
   "source": [
    "# Assignment 7\n",
    "def apply_homogeneous_transformation(data, yaw, pitch, roll, translation):\n",
    "    \"\"\" Apply a linear transformation to a set of 3D-vectors and plot them\n",
    "        \n",
    "        Args:\n",
    "            data: Input set of points to transform\n",
    "            yaw: Degrees to rotate the coordinate system around the 'Z' axis \n",
    "            pitch: Degrees to rotate the coordinate system around the 'Y' axis \n",
    "            roll: Degrees to rotate the coordinate system around the 'X' axis \n",
    "            translation: Column vector containing the translation for each axis\n",
    "    \"\"\"  \n",
    "    \n",
    "    # Transform to radians\n",
    "    \n",
    "    \n",
    "    # Construct rotation matrices\n",
    "    \n",
    "    \n",
    "    # Combine rotation matrices\n",
    "    \n",
    "    \n",
    "    # Create homogenous transformation matrix\n",
    "    \n",
    "    \n",
    "    # Create figure\n",
    "    \n",
    "\n",
    "    # Prepare figure for 3D data\n",
    "    \n",
    "\n",
    "    # Name axes\n",
    "    \n",
    "\n",
    "    # Plot points\n",
    "    "
   ]
  },
  {
   "cell_type": "markdown",
   "metadata": {},
   "source": [
    "Now apply the following transformation to the object previously loaded:\n",
    "\n",
    "- Yaw rotation: 45 degrees\n",
    "- Pitch rotation: -60 degrees\n",
    "- Roll rotation: 20 degrees\n",
    "- Translation:\n",
    "    - X-axis: 20 units \n",
    "    - Y-axis: 20 units\n",
    "    - Z-axis: 40 units\n",
    "\n",
    "Remember that this have to be done using a homogenous transformation (one unique matrix multiplication)."
   ]
  },
  {
   "cell_type": "code",
   "execution_count": null,
   "metadata": {},
   "outputs": [],
   "source": [
    "# Load data\n",
    "data = np.load(\"./data/data.npy\")\n",
    "\n",
    "# Apply transformation\n"
   ]
  },
  {
   "cell_type": "markdown",
   "metadata": {},
   "source": [
    "<font color='blue'>**Expected output:**  </font>\n",
    "\n",
    "<img src=\"./images/example_transformation_3b.png\" width=\"500\" align=\"left\"/>\n",
    "<img src=\"./images/blank.png\" width=\"100\" align=\"rigth\"/>"
   ]
  },
  {
   "cell_type": "markdown",
   "metadata": {},
   "source": [
    "By doing these transformations, our graphic engine could represent moving objects in the `WORLD` when the player is still (e.g. flying birds, cars, other players, etc.). "
   ]
  },
  {
   "cell_type": "markdown",
   "metadata": {},
   "source": [
    "### **<span style=\"color:green\"><b><i>ASSIGNMENT 8: How the player sees the world</i></b></span>**\n",
    "\n",
    "One final example, consider the following image, in where our character Joel is looking at a dystopian, post-apocalyptic scenario. \n",
    "\n",
    "<img src=\"./images/tlou.png\" width=\"1200\" align=\"center\"/>"
   ]
  },
  {
   "cell_type": "markdown",
   "metadata": {},
   "source": [
    "The `WORLD` reference system is displayed in orange and labeled with {$\\mathbf{W}$} while the reference system of the character's view is displayed in red and labeled as {$\\mathbf{C}$}. We know that the position and orientation of {$\\mathbf{C}$} w.r.t. {$\\mathbf{W}$} is given by a *yaw* angle of -45º, a *roll* angle of -90 and a translation of \\[0.0,-4.0,1.2\\] meters in \\[$x$,$y$,$z$\\] axes, respectively. Knowing that the coordinates of $p$ in the world are \\[30.0,1.2,0.5\\] meters, could you compute what are its coordinates w.r.t our character's point of view? As we will see in future notebooks, knowing such coordinates is vital to get the position of $p$ in the image that Joel would see if this game were in first-person (fortunately it's not!)."
   ]
  },
  {
   "cell_type": "code",
   "execution_count": null,
   "metadata": {},
   "outputs": [],
   "source": [
    "# Assignment 8\n",
    "# Write your code here!\n",
    "\n",
    "# Transform to radians\n",
    "\n",
    "\n",
    "# Construct rotation matrices\n",
    "\n",
    "\n",
    "# Combine rotation matrices\n",
    "\n",
    "\n",
    "# Create homogenous transformation matrix\n"
   ]
  },
  {
   "cell_type": "markdown",
   "metadata": {},
   "source": [
    "<font color='blue'>**Expected output:**  </font> \n",
    "\n",
    "    [[17.67766953]\n",
    "     [ 0.7       ]\n",
    "     [24.74873734]\n",
    "     [ 1.        ]]"
   ]
  },
  {
   "cell_type": "markdown",
   "metadata": {},
   "source": [
    "## Conclusion\n",
    "\n",
    "Awesome!\n",
    "\n",
    "This was an introductory notebook covering some mathematical tools that are the building blocks for image formation. We made an excellent work trying to master this maths. We have learned:\n",
    "\n",
    "- How to plot vectors and products between them.\n",
    "- The ideas behind the linear transformation of vectors.\n",
    "- How to rotate and translate points or vectors using Cartesian coordinates.\n",
    "- The principles of homogeneous coordinates.\n",
    "- How to rotate and translate points or vectors using homogeneous coordinates."
   ]
  }
 ],
 "metadata": {
  "kernelspec": {
   "display_name": "Python 3",
   "language": "python",
   "name": "python3"
  },
  "language_info": {
   "codemirror_mode": {
    "name": "ipython",
    "version": 3
   },
   "file_extension": ".py",
   "mimetype": "text/x-python",
   "name": "python",
   "nbconvert_exporter": "python",
   "pygments_lexer": "ipython3",
   "version": "3.8.5"
  },
  "varInspector": {
   "cols": {
    "lenName": 16,
    "lenType": 16,
    "lenVar": 40
   },
   "kernels_config": {
    "python": {
     "delete_cmd_postfix": "",
     "delete_cmd_prefix": "del ",
     "library": "var_list.py",
     "varRefreshCmd": "print(var_dic_list())"
    },
    "r": {
     "delete_cmd_postfix": ") ",
     "delete_cmd_prefix": "rm(",
     "library": "var_list.r",
     "varRefreshCmd": "cat(var_dic_list()) "
    }
   },
   "types_to_exclude": [
    "module",
    "function",
    "builtin_function_or_method",
    "instance",
    "_Feature"
   ],
   "window_display": false
  }
 },
 "nbformat": 4,
 "nbformat_minor": 4
}
