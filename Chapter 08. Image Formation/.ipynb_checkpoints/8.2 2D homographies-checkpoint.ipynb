{
 "cells": [
  {
   "cell_type": "markdown",
   "metadata": {},
   "source": [
    "# 8.2 2D Homographies\n",
    "\n",
    "A 2D homography is a very general linear transformation between planes. In the previous notebook we applied rotations and translations to 3D points, which are examples of 3D euclidean homographies.\n",
    "\n",
    "In computer vision, a homography is usually defined as a **perspective transformation of a plane**, in other workds, a reprojection of a plane from one camera image into a different one, where the camera may have been translated and/or rotated. As a consequence, **any two images of the same planar surface in space are related by a homography**. This has many practical applications, such as image rectification, image registration, etc. For 2D homographies, we have a $3x3$ matrix containing the linear transformation:$\\\\[010pt]$\n",
    "\n",
    "$$\n",
    "\\begin{bmatrix} a & b & c \\\\ d & e & f \\\\ g & h & 1 \\end{bmatrix} \\begin{bmatrix} x \\\\ y \\\\  1\\end{bmatrix} \n",
    "=  \n",
    "\\begin{bmatrix} u \\\\ v \\\\  w\\end{bmatrix}\\hspace{2cm} \\begin{array}{rcr} x' = u\\ /\\ w \\\\ y' = v \\ / \\ w \\end{array}\\\\[5pt] $$ \n",
    "\n",
    "<img src=\"./images/intro_homography.png\" width=\"400\"/>$\\\\[5pt]$\n",
    "\n",
    "Notice that in such transformation:\n",
    "- Lines are kept straight.\n",
    "- Incident lines remain.\n",
    "\n",
    "**In this notebook we will learn:**\n",
    "\n",
    "- different types of homographies (section 8.2.1).\n",
    "- how to find the parameters for a given homography in 2D (section 8.2.2).\n",
    "- under which conditions a homography exists (section 8.2.3)."
   ]
  },
  {
   "cell_type": "markdown",
   "metadata": {},
   "source": [
    "## Problem context - Homography in american football\n",
    "\n",
    "American football is a team sport played by two teams of eleven players on a rectangular field with goalposts at each end. For the cool things we are going to implement we just need to know some points about this sport:  \n",
    "\n",
    "- The offense (the team with possession of the football) has 4 tries (called downs) for making the ball advance at least 10 yards (approx 9 meters). \n",
    "- If a player pass the **down line** (yellow) with the ball, the offense have another 4 tries to advance 10 yards (from the point where the football was lost). \n",
    "- **On television, a yellow line is electronically superimposed on the field to show the first down line to the viewing audience. Also, a blue line is superimposed showing where the play (the football) starts.**$\\\\[10pt]$\n",
    "\n",
    "<img src=\"./images/example_football.jpg\" width=\"500\"/>$\\\\[3pt]$\n",
    "\n",
    "As you can see in the image above, the offense is in the **3rd try** for advancing 10 yards (they advanced 5 yards in previous tries, so **the objective is 5 yards**). That information is given by a rectangle placed in the field showing **3rd (try) & 5 (yards to go)**.\n",
    "\n",
    "Our objective in this notebook is to **place the blue line** (where the ball starts), the **yellow line** (down line) and the placed **rectangle** (which gives to the audience some information) **using homographies**. Cool, isn't?"
   ]
  },
  {
   "cell_type": "code",
   "execution_count": null,
   "metadata": {},
   "outputs": [],
   "source": [
    "import numpy as np\n",
    "import cv2\n",
    "import matplotlib.pyplot as plt\n",
    "import matplotlib\n",
    "from math import cos,sin,pi\n",
    "\n",
    "matplotlib.rcParams['figure.figsize'] = (12.0, 6.0)\n",
    "images_path = './images/'"
   ]
  },
  {
   "cell_type": "markdown",
   "metadata": {},
   "source": [
    "## 8.2.1 2D homography hierarchy levels\n",
    "\n",
    "But let's start from the beginning. All 2D homographies are linear transformation of 2D points, but there is a hierarchy level where we can distinguish different types of homographies (and, hence, transformations):$\\\\[10pt]$\n",
    "\n",
    "<center><img src=\"./images/types.png\" width=\"450\" /></center>$\\\\[5pt]$"
   ]
  },
  {
   "cell_type": "markdown",
   "metadata": {},
   "source": [
    "**<span style=\"color:orange\">LEVEL 1: Translation</span>**$\\\\[5pt]$\n",
    "\n",
    "$$\\lambda \\begin{bmatrix}x' \\\\ y' \\\\ 1 \\end{bmatrix} = \\begin{bmatrix} 1 & 0 & t_x \\\\ 0 & 1 & t_y \\\\ 0 & 0 & 1 \\end{bmatrix}\\begin{bmatrix}x \\\\ y \\\\ 1 \\end{bmatrix} = \\lambda \\begin{bmatrix}x + t_x \\\\ y + t_y \\\\ 1 \\end{bmatrix}\\\\[5pt]$$\n",
    "\n",
    "Translation is the most simple homography, since pixels of the plane are **only shifted** in both $X$ and $Y$ directions."
   ]
  },
  {
   "cell_type": "markdown",
   "metadata": {},
   "source": [
    "### **<span style=\"color:green\"><b><i>ASSIGNMENT 1: Playing with... wait for it... translation!</i></b></span>**\n",
    "\n",
    "Your first task is to define a transformation matrix `M` (*float64 numPy matrix*) that applies an arbitrary translation to the image `football.jpg`. You can apply a homography to an image using [`cv2.warpPerspective()`](https://docs.opencv.org/4.2.0/da/d54/group__imgproc__transform.html#gaf73673a7e8e18ec6963e3774e6a94b87), which takes an image, the transformation matrix and the size of the output image as input. Finally, show both the original and resulting image.\n",
    "\n",
    "*Note: The output image size deppends on the transformation we want to do, but for the following examples you can use the double of the width and height of the original image.*"
   ]
  },
  {
   "cell_type": "code",
   "execution_count": null,
   "metadata": {},
   "outputs": [],
   "source": [
    "# Assignment 1\n",
    "matplotlib.rcParams['figure.figsize'] = (12.0, 6.0)\n",
    "\n",
    "# Read image\n",
    "\n",
    "\n",
    "# Define transformation matrix\n",
    "\n",
    "\n",
    "# Apply homography\n",
    "\n",
    "\n",
    "# Show the resulting image\n"
   ]
  },
  {
   "cell_type": "markdown",
   "metadata": {},
   "source": [
    "**<span style=\"color:orange\">LEVEL 2: Euclidean transformation</span>**$\\\\[5pt]$\n",
    "\n",
    "$$\\lambda \\begin{bmatrix}x' \\\\ y' \\\\ 1 \\end{bmatrix} = \\begin{bmatrix} cos(\\theta) & -sin(\\theta) & t_x \\\\ sin(\\theta) & cos(\\theta) & t_y \\\\ 0 & 0 & 1 \\end{bmatrix}\\begin{bmatrix}x \\\\ y \\\\ 1 \\end{bmatrix} = \\lambda \\begin{bmatrix}cos(\\theta)x - sin(\\theta)y + t_x \\\\ sin(\\theta)x + cos(\\theta)y  + t_y \\\\ 1 \\end{bmatrix}\\\\[5pt]$$\n",
    "\n",
    "As we saw in the previous notebook, this homography applies **rotation + translation**.  \n",
    "*Note that rotation is around the origin of coordinates (0,0), which is the top-left corner of the image.*  "
   ]
  },
  {
   "cell_type": "markdown",
   "metadata": {},
   "source": [
    "### **<span style=\"color:green\"><b><i>ASSIGNMENT 2: Euclidean transformation comes into play</i></b></span>**\n",
    "\n",
    "Repeat the previous exercise using an Euclidean transformation."
   ]
  },
  {
   "cell_type": "code",
   "execution_count": null,
   "metadata": {},
   "outputs": [],
   "source": [
    "# Assignment 2\n",
    "# Define transformation matrix\n",
    "\n",
    "\n",
    "# Apply homography\n",
    "\n",
    "\n",
    "# Show the resulting image\n"
   ]
  },
  {
   "cell_type": "markdown",
   "metadata": {},
   "source": [
    "**<span style=\"color:orange\">LEVEL 3: Similarity</span>**$\\\\[5pt]$\n",
    "\n",
    "$$\\lambda \\begin{bmatrix}x' \\\\ y' \\\\ 1 \\end{bmatrix} = \\begin{bmatrix} s & 0 & 0 \\\\ 0 & s & 0 \\\\ 0 & 0 & 1 \\end{bmatrix}\\begin{bmatrix} cos(\\theta) & -sin(\\theta) & t_x \\\\ sin(\\theta) & cos(\\theta) & t_y \\\\ 0 & 0 & 1 \\end{bmatrix}\\begin{bmatrix}x \\\\ y \\\\ 1 \\end{bmatrix} = \\begin{bmatrix} s\\cdot cos(\\theta) & -s\\cdot sin(\\theta) & s\\cdot t_x \\\\ s\\cdot sin(\\theta) & s\\cdot cos(\\theta) & s\\cdot t_y \\\\ 0 & 0 & 1 \\end{bmatrix}\\begin{bmatrix}x \\\\ y \\\\ 1 \\end{bmatrix} = \\lambda \\begin{bmatrix}s\\cdot (cos(\\theta)x - sin(\\theta)y + t_x) \\\\ s\\cdot (sin(\\theta)x + cos(\\theta)y  + t_y) \\\\ 1 \\end{bmatrix}\\\\[5pt]$$\n",
    "\n",
    "This homography applies **rotation + translation + scale**.  \n",
    "*Note that scale have to be equal for both axes $x$ and $y$.*  "
   ]
  },
  {
   "cell_type": "markdown",
   "metadata": {},
   "source": [
    "### **<span style=\"color:green\"><b><i>ASSIGNMENT 3: Applying a similarity transformation</i></b></span>**\n",
    "\n",
    "Repeat the previous exercise using a similarity transformation."
   ]
  },
  {
   "cell_type": "code",
   "execution_count": null,
   "metadata": {},
   "outputs": [],
   "source": [
    "# Exercise 6.2.3\n",
    "\n",
    "\n",
    "# Define transformation matrix\n",
    "\n",
    "\n",
    "# Apply homography\n",
    "\n",
    "\n",
    "# Show the resulting image\n"
   ]
  },
  {
   "cell_type": "markdown",
   "metadata": {},
   "source": [
    "**<span style=\"color:orange\">LEVEL 4: Affine</span>**$\\\\[5pt]$\n",
    "\n",
    "$$\\lambda \\begin{bmatrix}x' \\\\ y' \\\\ 1 \\end{bmatrix} = \\begin{bmatrix} h_{00} & h_{01} & h_{02} \\\\ h_{10} & h_{11} & h_{12}\\\\ 0 & 0 & 1 \\end{bmatrix}\\begin{bmatrix}x \\\\ y \\\\ 1 \\end{bmatrix} = \\lambda \\begin{bmatrix}h_{00}x + h_{01}y + h_{02}\\\\ h_{10}x + h_{11}y + h_{12}\\\\ 1 \\end{bmatrix}\\\\[5pt]$$\n",
    "\n",
    "This is an interesting homography because it appears quite often in real life (e.g. when the depth variation within the planar object and a camera is large):$\\\\[10pt]$\n",
    "\n",
    "<img src=\"./images/affine.png\" width=\"300\" />$\\\\[5pt]$\n",
    "\n",
    "We can deffine it as a **rotation + translation + scale (different for each axis)** transform."
   ]
  },
  {
   "cell_type": "markdown",
   "metadata": {},
   "source": [
    "### **<span style=\"color:green\"><b><i>ASSIGNMENT 4: Affine transformation, I choose you</i></b></span>**\n",
    "\n",
    "Repeat the previous assignment but using an affine transformation."
   ]
  },
  {
   "cell_type": "code",
   "execution_count": null,
   "metadata": {},
   "outputs": [],
   "source": [
    "# Assignment 4\n",
    "\n",
    "# Define transformation matrix\n",
    "\n",
    "\n",
    "# Apply homography\n",
    "\n",
    "\n",
    "# Show the resulting image\n",
    "\n"
   ]
  },
  {
   "cell_type": "markdown",
   "metadata": {},
   "source": [
    "**<span style=\"color:orange\">LEVEL 5: Projective</span>**$\\\\[5pt]$\n",
    "\n",
    "$$\\lambda \\begin{bmatrix}x' \\\\ y' \\\\ 1 \\end{bmatrix} = \\begin{bmatrix} h_{00} & h_{01} & h_{02} \\\\ h_{10} & h_{11} & h_{12}\\\\ h_{20} & h_{21} & 1 \\end{bmatrix}\\begin{bmatrix}x \\\\ y \\\\ 1 \\end{bmatrix} = \\lambda \\begin{bmatrix}h_{00}x + h_{01}y + h_{02}\\\\ h_{10}x + h_{11}y + h_{12}\\\\ h_{20}x + h_{21}y + 1 \\end{bmatrix}\\\\[5pt]$$\n",
    "\n",
    "And we have reached the top level: The projective transformation is the general 2D homography since there are no constraints. Unlike the affine transformation, projective tranfomations appear in real life when variation in depth is comparable to distance from the camera to an object:$\\\\[10pt]$\n",
    "\n",
    "<img src=\"./images/comparison_projective.png\" width=\"650\" />$\\\\[5pt]$\n",
    "\n",
    "*Note that we used $h_{22}=1$ for fixing the scale factor in linear transformations. This constraint can be replaced with $\\textbf{||h|| = 1}$ (better).*  \n",
    "\n",
    "Projective transformation is a very poweful tool, and it has many applications, **see the following example.**"
   ]
  },
  {
   "cell_type": "code",
   "execution_count": null,
   "metadata": {},
   "outputs": [],
   "source": [
    "# Define transformation matrix\n",
    "M = np.array([[3.1654,0.03225,1191.14702],[0.0799604,10.2911,263.9896],[-0.00014621,0.00300344,1]], dtype=np.float64)\n",
    "\n",
    "# Apply homography\n",
    "transformed = cv2.warpPerspective(image, M, (3100,2100))\n",
    "\n",
    "# Show the resulting image\n",
    "plt.subplot(121)\n",
    "plt.title(\"Original\")\n",
    "plt.imshow(image)\n",
    "plt.subplot(122)\n",
    "plt.title(\"Transformed\")\n",
    "plt.imshow(transformed)"
   ]
  },
  {
   "cell_type": "markdown",
   "metadata": {},
   "source": [
    "As you can see, the perspective of the image has been **removed** and the resultant image is *like* an image taken from the air.\n",
    "\n",
    "But, you can see that the coefficient of the employed matrix are not some randomly picked numbers, so how can you obtain the specific matrix `M` that is able to do this? The short answer is from a set of corresponding points (rings any bell?). And going one step further: **How can a matrix `M` be obtained having pairs of correspondences**?  \n",
    "\n",
    "Just as a preview, in the example above, we have used the four corners of the rectangle that the white lines are forming and we have made them corresponded with an actual rectangle without perspective. Do not worry, we will explain this later, but first let's have a look at the maths behind this."
   ]
  },
  {
   "cell_type": "markdown",
   "metadata": {},
   "source": [
    "## 8.2.2 Solving the 2D homography: Direct Lineal Transformation (DLT)\n",
    "\n",
    "As you know, a general 2D homography that converts a point $p=(x,y)$ to another point $p'=(x',y')$ looks like this (in homogeneous coordinates):$\\\\[5pt]$\n",
    "\n",
    "$$\\lambda \\begin{bmatrix}x' \\\\ y' \\\\ 1 \\end{bmatrix} = \\begin{bmatrix} h_{00} & h_{01} & h_{02} \\\\ h_{10} & h_{11} & h_{12}\\\\ h_{20} & h_{21} & 1 \\end{bmatrix}\\begin{bmatrix}x \\\\ y \\\\ 1 \\end{bmatrix}$$\n",
    "\n",
    "If we know the coordinates of the corresponding points in both images, we can build an equation system to solve the coefficients of the matrix. Furthermore, knowing a certain amount of corresponding points that share the same homography will allow us to get a(n) (over)determined equation system to get them.  \n",
    "\n",
    "In this case, from a certain pair of points $i$, we can form a linear equations system in order to isolate the matrix variables:$\\\\[5pt]$\n",
    "\n",
    "$$\\begin{eqnarray}\n",
    "x'_i = \\frac{h_{00}x_i + h_{01}y_i + h_{02}}{h_{20}x_i + h_{21}y_i + 1}\\  \\longrightarrow \\ x'_i(h_{20}x_i + h_{21}y_i + 1) = h_{00}x_i + h_{01}y_i + h_{02} \\\\[10pt]\n",
    "y'_i = \\frac{h_{10}x_i + h_{11}y_i + h_{12}}{h_{20}x_i + h_{21}y_i + 1}\\ \\longrightarrow \\ y'_i(h_{20}x_i + h_{21}y_i + 1) = h_{10}x_i + h_{11}y_i + h_{12}\n",
    "\\end{eqnarray}\n",
    "$$\n",
    "$\\\\[10pt]$\n",
    "$$A\\mathbf{h} = 0 \\longrightarrow\n",
    "\\begin{bmatrix}\n",
    "-x_i & -y_i & -1 & 0 & 0 & 0 & x'_ix_i & x'_iy_i & x'_i \\\\\n",
    "0 & 0 & 0 & -x_i & -y_i & -1 & y'_ix_i & y'_iy_i & y'_i\n",
    "\\end{bmatrix} \n",
    "\\begin{bmatrix}\n",
    "h_{00} \\\\ h_{01} \\\\ h_{02} \\\\ h_{10} \\\\ h_{11} \\\\ h_{12} \\\\ h_{20} \\\\ h_{21} \\\\ 1\n",
    "\\end{bmatrix} \n",
    "=\n",
    "\\begin{bmatrix}\n",
    "0 \\\\ 0 \n",
    "\\end{bmatrix} \n",
    "\\\\[5pt]\n",
    "$$\n",
    "\n",
    "You can see that with less than 4 independent points ($rank(A) \\lt 8$), there are infinitely many solutions behind $k\\textbf{h}$.\n",
    "\n",
    "But, if we have **4 or more independent pair of points**:$\\\\[5pt]$\n",
    "\n",
    "$$Ah = 0 \\longrightarrow\n",
    "\\begin{bmatrix}\n",
    "-x_1 & -y_1 & -1 & 0 & 0 & 0 & x'_1x_1 & x'_1y_1 & x'_1 \\\\\n",
    "0 & 0 & 0 & -x_1 & -y_1 & -1 & y'_1x_1 & y'_1y_1 & y'_1 \\\\\n",
    "& & & &\\vdots \\\\\n",
    "-x_n & -y_n & -1 & 0 & 0 & 0 & x'_nx_n & x'_ny_n & x'_n \\\\\n",
    "0 & 0 & 0 & -x_n & -y_n & -1 & y'_nx_n & y'_ny_n & y'_n \\\\\n",
    "\\end{bmatrix} \n",
    "\\begin{bmatrix}\n",
    "h_{00} \\\\ h_{01} \\\\ h_{02} \\\\ h_{10} \\\\ h_{11} \\\\ h_{12} \\\\ h_{20} \\\\ h_{21} \\\\ 1\n",
    "\\end{bmatrix} \n",
    "= \n",
    "\\begin{bmatrix}\n",
    "0 \\\\0\\\\ \\vdots \\\\ 0 \\\\ 0\n",
    "\\end{bmatrix} \n",
    "$$\n",
    "\n",
    "\n",
    "- For $\\textbf{n = 4}$ **independent pair of points** ($rank(A) = 8$), there is a solution $k\\textbf{h}$ with $\\textbf{h} \\ne 0, k \\ne 0$. This should be sufficient (and strictly it is, as we will test later), but the solution will be highly affected by the noise in the points coordinates, so this is not usually employed in applications with automatically detected points, but for manually chosen ones.$\\\\[5pt]$\n",
    "- For $\\textbf{n > 4}$ **independent pair of points** ($rank(A) \\gt 8$), (e.g. those pair of points detected by SIFT) there is not a solution (apart from $\\textbf{h} = 0$) as the system is overdetermined. However, we can get the solution that minimizes the error in the points coordinates (that is, the least-squares solution): $\\\\[5pt]$\n",
    "\n",
    "    - Arg. min$_h ||\\textbf{Ah}||^2$ with $||\\textbf{h}|| = 1$$\\\\[5pt]$\n",
    "    - Solution $\\hat{h}$: eigenvector of the smallest eigenvalue of $A^TA$\n",
    "    \n",
    "Note that if you know the specific type of the transformation, you may need less points to solve this equation system:\n",
    "\n",
    "- **Translation** (2 unknowns) $\\rightarrow$ **1 pair of points needed**\n",
    "- **Euclidean** (3 unknowns) $\\rightarrow$ **2 pair of points needed**\n",
    "- **Similarity** (4 unknowns) $\\rightarrow$ **2 pair of points needed**\n",
    "- **Affine** (6 unknowns) $\\rightarrow$ **3 pair of points needed**\n",
    "- **Projective** (8 unknowns) $\\rightarrow$ **4 pair of points needed**\n",
    "\n",
    "But, as we said, usually, you need many more points for noise robustness, so this is not relevant at all.  \n",
    "\n",
    "Also, each type of transformation entails certain transformations and invariance, the table below resume this:$\\\\[10pt]$\n",
    "\n",
    "<table>\n",
    "<tbody>\n",
    "<tr style=\"height: 23px;border: 1px solid black;\">\n",
    "<th style=\"height: 23px;border: 1px solid black;\">&nbsp;</td>\n",
    "<th style=\"height: 23px;border: 1px solid black;\">Euclidean </td>\n",
    "<th style=\"height: 23px;border: 1px solid black;\">&nbsp;Similarity</td>\n",
    "<th style=\"height: 23px;border: 1px solid black;\">&nbsp;Affine</td>\n",
    "<th style=\"height: 23px;border: 1px solid black;\">&nbsp;Projective</td>\n",
    "</tr>\n",
    "<tr style=\"height: 23px;border: 1px solid black;\">\n",
    "<th style=\"height: 23px;border: 1px solid black;\">&nbsp;Transformations:</td>\n",
    "<td style=\"height: 23px;\">&nbsp;</td>\n",
    "<td style=\"height: 23px;\">&nbsp;</td>\n",
    "<td style=\"height: 23px;\">&nbsp;</td>\n",
    "<td style=\"height: 23px;\">&nbsp;</td>\n",
    "</tr>\n",
    "<tr style=\"height: 23px;border: 1px solid black;\">\n",
    "<td style=\"height: 23px;border: 1px solid black;\">&nbsp;Rotation, translation</td>\n",
    "<td style=\"height: 23px;border: 1px solid black;\">&nbsp;x</td>\n",
    "<td style=\"height: 23px;border: 1px solid black;\">&nbsp;x</td>\n",
    "<td style=\"height: 23px;border: 1px solid black;\">&nbsp;x</td>\n",
    "<td style=\"height: 23px;border: 1px solid black;\">&nbsp;x</td>\n",
    "</tr>\n",
    "<tr style=\"height: 23px;border: 1px solid black;\">\n",
    "<td style=\"height: 23px;border: 1px solid black;\">&nbsp;Isotropic scale</td>\n",
    "<td style=\"height: 23px;border: 1px solid black;\">&nbsp;</td>\n",
    "<td style=\"height: 23px;border: 1px solid black;\">&nbsp;x</td>\n",
    "<td style=\"height: 23px;border: 1px solid black;\">&nbsp;x</td>\n",
    "<td style=\"height: 23px;border: 1px solid black;\">&nbsp;x</td>\n",
    "</tr>\n",
    "<tr style=\"height: 23px;border: 1px solid black;\">\n",
    "<td style=\"height: 23px;border: 1px solid black;\">&nbsp;Axes scale</td>\n",
    "<td style=\"height: 23px;border: 1px solid black;\">&nbsp;</td>\n",
    "<td style=\"height: 23px;border: 1px solid black;\">&nbsp;</td>\n",
    "<td style=\"height: 23px;border: 1px solid black;\">&nbsp;x</td>\n",
    "<td style=\"height: 23px;border: 1px solid black;\">&nbsp;x</td>\n",
    "</tr>\n",
    "<tr style=\"height: 23px;border: 1px solid black;\">\n",
    "<td style=\"height: 23px;border: 1px solid black;\">&nbsp;Perspective transformation</td>\n",
    "<td style=\"height: 23px;border: 1px solid black;\">&nbsp;</td>\n",
    "<td style=\"height: 23px;border: 1px solid black;\">&nbsp;</td>\n",
    "<td style=\"height: 23px;border: 1px solid black;\">&nbsp;</td>\n",
    "<td style=\"height: 23px;border: 1px solid black;\">&nbsp;x</td>\n",
    "</tr>\n",
    "<tr style=\"height: 23px;border: 1px solid black;\">\n",
    "<th style=\"height: 23px;border: 1px solid black;\">&nbsp;Invariants:</td>\n",
    "<td style=\"height: 23px;\">&nbsp;</td>\n",
    "<td style=\"height: 23px;\">&nbsp;</td>\n",
    "<td style=\"height: 23px;\">&nbsp;</td>\n",
    "<td style=\"height: 23px;\">&nbsp;</td>\n",
    "</tr>\n",
    "<tr style=\"height: 23px;border: 1px solid black;\">\n",
    "<td style=\"height: 23px;border: 1px solid black;\">&nbsp;Distance</td>\n",
    "<td style=\"height: 23px;border: 1px solid black;\">&nbsp;x</td>\n",
    "<td style=\"height: 23px;border: 1px solid black;\">&nbsp;</td>\n",
    "<td style=\"height: 23px;border: 1px solid black;\">&nbsp;</td>\n",
    "<td style=\"height: 23px;border: 1px solid black;\">&nbsp;</td>\n",
    "</tr>\n",
    "<tr style=\"height: 23px;border: 1px solid black;\">\n",
    "<td style=\"height: 23px;border: 1px solid black;\">&nbsp;Angles, distance ratios</td>\n",
    "<td style=\"height: 23px;border: 1px solid black;\">&nbsp;x</td>\n",
    "<td style=\"height: 23px;border: 1px solid black;\">&nbsp;x</td>\n",
    "<td style=\"height: 23px;border: 1px solid black;\">&nbsp;</td>\n",
    "<td style=\"height: 23px;border: 1px solid black;\">&nbsp;</td>\n",
    "</tr>\n",
    "<tr style=\"height: 23px;border: 1px solid black;\">\n",
    "<td style=\"height: 23px;border: 1px solid black;\">Parallelism, mass center</td>\n",
    "<td style=\"height: 23px;border: 1px solid black;\">&nbsp;x</td>\n",
    "<td style=\"height: 23px;border: 1px solid black;\">&nbsp;x</td>\n",
    "<td style=\"height: 23px;border: 1px solid black;\">&nbsp;x</td>\n",
    "<td style=\"height: 23px;border: 1px solid black;\">&nbsp;</td>\n",
    "</tr>\n",
    "<tr style=\"height: 23px;border: 1px solid black;\">\n",
    "<td style=\"height: 23px;border: 1px solid black;\">&nbsp;Cross-ratio</td>\n",
    "<td style=\"height: 23px;border: 1px solid black;\">&nbsp;x</td>\n",
    "<td style=\"height: 23px;border: 1px solid black;\">&nbsp;x</td>\n",
    "<td style=\"height: 23px;border: 1px solid black;\">&nbsp;x</td>\n",
    "<td style=\"height: 23px;border: 1px solid black;\">&nbsp;x</td>\n",
    "</tr>\n",
    "</tbody>\n",
    "</table>"
   ]
  },
  {
   "cell_type": "markdown",
   "metadata": {},
   "source": [
    "### **<span style=\"color:green\"><b><i>ASSIGNMENT 5a: Let's apply your knowledge</i></b></span>**\n",
    "\n",
    "Now that we know how to solve the homography 2D, let's go back to our American football problem.\n",
    "\n",
    "We are going to work with the image `football-big.jpg`, which is the same as the one used in previous exercises but with a better resolution and quality.\n",
    "\n",
    "Let's start by reading and showing such color image:"
   ]
  },
  {
   "cell_type": "code",
   "execution_count": null,
   "metadata": {},
   "outputs": [],
   "source": [
    "# Assignment 5a\n",
    "\n",
    "matplotlib.rcParams['figure.figsize'] = (12.0, 12.0)\n",
    "\n",
    "# Read american football image.\n",
    "\n",
    "\n",
    "# Show it\n"
   ]
  },
  {
   "cell_type": "markdown",
   "metadata": {},
   "source": [
    "Our first task is to add the image `marker.jpg` to the field. \n",
    "\n",
    "<img src=\"./images/marker.jpg\" width=\"150\" />$\\\\[5pt]$\n",
    "\n",
    "For adding an image without perspective to an image with perspective, the first step is to **remove the perspective** of the original image, and for that we are going to *map* the points of a rectangle on the field to **an actual rectangle**, but keeping the ratio of the sides' lengths of the rectangle (remember that a projective transformation is only invariant to the cross-ratio distances!):\n",
    "\n",
    "<img src=\"./images/points-homography.png\" width=\"800\" />$\\\\[5pt]$\n",
    "\n",
    "Now that we have four (manually selected) corresponding points, we are going to compute the transformation matrix of that projective homography. This is easy in openCV, as it provides the [`cv2.findHomography()`](https://docs.opencv.org/4.2.0/d9/d0c/group__calib3d.html#ga4abc2ece9fab9398f2e560d53c8c9780) method, which method takes two lists of corresponding points as input: the first list contains the input coordinates $(x_i,y_i)$ and the second list their correspondences $(x'_i,y'_i)$.\n",
    "\n",
    "*Note that those points represent coordinates, their format is $(n\\_col, n\\_row)$*."
   ]
  },
  {
   "cell_type": "markdown",
   "metadata": {},
   "source": [
    "### **<span style=\"color:green\"><b><i>ASSIGNMENT 5b: Obtaining the transformation matrix</i></b></span>**\n",
    "\n",
    "Take the **four corners of the specified rectangle** (you can use an external tool to get the coordinates) and obtain the transformation matrix that removes the perpective of the football field. Then **use `warpPerspective()` with the obtained matrix** to remove the perspective and **show the image**. Finally, save it into your computer, we will need it for the next exercise.\n",
    "\n",
    "*Remember that the output rectangle should maintain the ratio of the original football field ($10\\ /\\ 6.16$) when you define the list of the correspondent points, and for computation purposes use numbers that are \"similar\".*"
   ]
  },
  {
   "cell_type": "code",
   "execution_count": null,
   "metadata": {},
   "outputs": [],
   "source": [
    "# Assignment 5b\n",
    "\n",
    "# Points of a rectangle in the field\n",
    "\n",
    "\n",
    "# Points of a rectangle without perspective with r=1.6\n",
    "\n",
    "\n",
    "# Calculate Homography\n",
    "\n",
    "\n",
    "# Warp source image to destination based on homography\n",
    "\n",
    "\n",
    "# Show image without perspective\n",
    "\n",
    "\n",
    "# Save image\n"
   ]
  },
  {
   "cell_type": "markdown",
   "metadata": {},
   "source": [
    "Now that we have the field without perspective, we can add the marker to the image in any place.\n",
    "\n",
    "As we want to **add the start and down line in the original image**, we need to **take two points for each line in this image** (note that now the lines are vertical lines, so take points with the same $x$ coordinate for both lines). In the next exercise we will apply inverse homography to those points so it will be possible to draw the line in the original image. **The down line should be at 3 yards of the start line** (each small vertical segment marks one yard, and vertical lines mark five yards)."
   ]
  },
  {
   "cell_type": "markdown",
   "metadata": {},
   "source": [
    "### **<span style=\"color:green\"><b><i>ASSIGNMENT 5c: Adding the marker</i></b></span>**\n",
    "\n",
    "Add the marker to the image without perspective and show it, also take the points mentioned before. The resulting image should look like this:$\\\\[5pt]$\n",
    "\n",
    "<img src=\"./images/marker-example.png\" width=\"600\" />$\\\\[5pt]$"
   ]
  },
  {
   "cell_type": "code",
   "execution_count": null,
   "metadata": {},
   "outputs": [],
   "source": [
    "# Assigment 5c\n",
    "# Read the marker image.\n",
    "\n",
    "\n",
    "# Get width and height\n",
    "\n",
    "\n",
    "# Choose position of marker\n",
    "\n",
    "\n",
    "# Place marker in football field image without perspective\n",
    "\n",
    "\n",
    "# Show image\n",
    "\n",
    "\n",
    "# Pick two homogenous points contained in the start line\n",
    "\n",
    "\n",
    "# Pick two homogenous points contained in the down line\n"
   ]
  },
  {
   "cell_type": "markdown",
   "metadata": {},
   "source": [
    "It's time to restore the initial perspective, for that **apply homography using the inverse of the transformation matrix**:\n",
    "\n",
    "$$\\lambda \\begin{bmatrix}x \\\\ y \\\\ 1 \\end{bmatrix} = \\begin{bmatrix} h_{00} & h_{01} & h_{02} \\\\ h_{10} & h_{11} & h_{12}\\\\ h_{20} & h_{21} & 1 \\end{bmatrix}^{-1}\\begin{bmatrix}x' \\\\ y' \\\\ 1 \\end{bmatrix}$$"
   ]
  },
  {
   "cell_type": "markdown",
   "metadata": {},
   "source": [
    "### **<span style=\"color:green\"><b><i>ASSIGNMENT 5d: Going back to the initial perspective, but with the mark!</i></b></span>**\n",
    "\n",
    "Compute the inverse of the transformation matrix using [`numpy.linalg.inv()`](https://docs.scipy.org/doc/numpy/reference/generated/numpy.linalg.inv.html), and bring back the perspective to the image with the marker using the new homography and show it.\n",
    "\n",
    "*Now, you should see the marker having the same perspective than the original image.*"
   ]
  },
  {
   "cell_type": "code",
   "execution_count": null,
   "metadata": {},
   "outputs": [],
   "source": [
    "# Assignment 5d\n",
    "\n",
    "# Compute the inverse of the homography\n",
    "\n",
    "\n",
    "# Get the original perspective again\n",
    "\n",
    "\n",
    "# Show the image\n"
   ]
  },
  {
   "cell_type": "markdown",
   "metadata": {},
   "source": [
    "Finally, its time to **draw the lines**. You should have saved the coordinates of two points for each line in the image without perspective.\n",
    "\n",
    "For homography of lines, you just need to **apply the homography to two points of the line**. In that way, you will have two points in the original image defining the line.\n",
    "\n",
    "Note that `cv2.line()` has two points as input, but only draws the segment line. You will have to **extend that segment** using the slope of the line.\n",
    "\n",
    "$$slope = \\frac{y_2-y_1}{x_2-x_1}$$\n",
    "\n",
    "The new points will be:\n",
    "\n",
    "$$\\begin{eqnarray}\n",
    "x'_1,\\ \\  y'_1 = x_1 + extension,\\ \\ y_1 + extension\\times slope\\\\[3pt]\n",
    "x'_2,\\ \\  y'_2 = x_2 - extension,\\ \\  y_2 - extension\\times slope\n",
    "\\end{eqnarray}$$"
   ]
  },
  {
   "cell_type": "markdown",
   "metadata": {},
   "source": [
    "### **<span style=\"color:green\"><b><i>ASSIGNMENT 5e: Drawing lines</i></b></span>**\n",
    "\n",
    "Apply the **inverse homography** to the line points, **extend** the line segment and **draw** the start line (blue) and the down line (yellow). Finally, show the resulting image.\n",
    "\n",
    "This resulting image should look like this:$\\\\[5pt]$\n",
    "\n",
    "<img src=\"./images/result.png\" width=\"400\" />$\\\\[5pt]$"
   ]
  },
  {
   "cell_type": "code",
   "execution_count": null,
   "metadata": {},
   "outputs": [],
   "source": [
    "# Assignment 5e\n",
    "# Apply inverse homography to the start line points taken in the image without perspective\n",
    "\n",
    "\n",
    "# Compute the slope for extending the line segment\n",
    "\n",
    "\n",
    "# Extend the line segment\n",
    "\n",
    "\n",
    "# Draw the start line\n",
    "\n",
    "\n",
    "# Apply inverse homography to the down line points taken in the image without perspective\n",
    "\n",
    "\n",
    "# Compute the slope for extending the line segment\n",
    "\n",
    "\n",
    "# Extend the line segment\n",
    "\n",
    "\n",
    "# Draw the start line\n",
    "\n",
    "\n",
    "# And... show the final image!\n"
   ]
  },
  {
   "cell_type": "markdown",
   "metadata": {},
   "source": [
    "## 8.2.3 When can a homography be applied?\n",
    "\n",
    "We have applied a homography to this football field because it is a transformation **between planes**, but if you look to the top player in the *aerial* image, you can see that the transformation is not good at all. So, we need to know when can we apply a homography. \n",
    "\n",
    "It can be said that there is a homography $H_{3\\times3}$ between points in these 3 cases:\n",
    "\n",
    "<img src=\"./images/applications.png\" width=\"800\" />\n",
    "\n",
    "In this exercise we have had a **still camera** and we have transformed a image plane to another. Since the players are not in the same plane that the football field, the homography is not valid for those points.\n",
    "\n",
    "On the other hand, there is also an homography **for a rotating camera observing a non-planar scene**. Actually, this would the next step for **image stitching** after computing matches with keypoints in the example application in Chapter 4. We already have the correspondences either using Harris or SIFT, so the homography should be easy to obtain.$\\\\[5pt]$\n",
    "\n",
    "<img src=\"./images/stitching.png\" width=\"800\" />$\\\\[5pt]$\n",
    "\n",
    "Finally, there are a homography for a **moving camera observing a plane**. This is the typical case of 2 images of a painting taken from different positions:$\\\\[5pt]$\n",
    "\n",
    "<img src=\"./images/painting.png\" width=\"400\" />"
   ]
  },
  {
   "cell_type": "markdown",
   "metadata": {},
   "source": [
    "## Conclusion\n",
    "\n",
    "Fantastic work! Homographies are a very important tool in computer vision. In this notebook you have learned:\n",
    "\n",
    "- what a homography is, how to solve it and how to apply it,\n",
    "- when a homography can be used,\n",
    "- how to apply homographies to lines,\n",
    "- some homography applications that are currently being used in American football (and other sports too! think about placing advertising on a tennis or football courts)."
   ]
  }
 ],
 "metadata": {
  "kernelspec": {
   "display_name": "Python 3",
   "language": "python",
   "name": "python3"
  },
  "language_info": {
   "codemirror_mode": {
    "name": "ipython",
    "version": 3
   },
   "file_extension": ".py",
   "mimetype": "text/x-python",
   "name": "python",
   "nbconvert_exporter": "python",
   "pygments_lexer": "ipython3",
   "version": "3.8.5"
  },
  "varInspector": {
   "cols": {
    "lenName": 16,
    "lenType": 16,
    "lenVar": 40
   },
   "kernels_config": {
    "python": {
     "delete_cmd_postfix": "",
     "delete_cmd_prefix": "del ",
     "library": "var_list.py",
     "varRefreshCmd": "print(var_dic_list())"
    },
    "r": {
     "delete_cmd_postfix": ") ",
     "delete_cmd_prefix": "rm(",
     "library": "var_list.r",
     "varRefreshCmd": "cat(var_dic_list()) "
    }
   },
   "types_to_exclude": [
    "module",
    "function",
    "builtin_function_or_method",
    "instance",
    "_Feature"
   ],
   "window_display": false
  }
 },
 "nbformat": 4,
 "nbformat_minor": 4
}
